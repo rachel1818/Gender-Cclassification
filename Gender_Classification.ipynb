{
  "nbformat": 4,
  "nbformat_minor": 0,
  "metadata": {
    "colab": {
      "name": "Gender Classification.ipynb",
      "provenance": [],
      "include_colab_link": true
    },
    "kernelspec": {
      "name": "python3",
      "display_name": "Python 3"
    }
  },
  "cells": [
    {
      "cell_type": "markdown",
      "metadata": {
        "id": "view-in-github",
        "colab_type": "text"
      },
      "source": [
        "<a href=\"https://colab.research.google.com/github/rachel1818/Gender-Cclassification/blob/main/Gender_Classification.ipynb\" target=\"_parent\"><img src=\"https://colab.research.google.com/assets/colab-badge.svg\" alt=\"Open In Colab\"/></a>"
      ]
    },
    {
      "cell_type": "code",
      "metadata": {
        "id": "GAR3PlhiFLcw"
      },
      "source": [
        "from nltk.corpus import names\n",
        "import random\n",
        "import nltk\n",
        "import numpy as np\n",
        "from sklearn.naive_bayes import GaussianNB \n",
        "from sklearn.model_selection import cross_validate \n",
        "import pandas as pd\n",
        "from sklearn.preprocessing import LabelEncoder\n",
        "from sklearn.feature_extraction.text import CountVectorizer, TfidfVectorizer\n",
        "from sklearn.model_selection import KFold\n",
        "from sklearn.model_selection import train_test_split\n",
        "from sklearn import naive_bayes\n",
        "from sklearn.tree import DecisionTreeClassifier\n",
        "from sklearn.neighbors import KNeighborsClassifier\n",
        "from sklearn.metrics import classification_report, confusion_matrix\n",
        "from sklearn.ensemble import RandomForestRegressor, RandomForestClassifier\n",
        "from sklearn.svm import SVC\n",
        "import matplotlib.pyplot as plt\n",
        "import seaborn as sns"
      ],
      "execution_count": null,
      "outputs": []
    },
    {
      "cell_type": "markdown",
      "metadata": {
        "id": "Q8_0_TZhHWkh"
      },
      "source": [
        "The way the cross validation was included was wrong and the model_selection was supposed to be included to import cross validation"
      ]
    },
    {
      "cell_type": "code",
      "metadata": {
        "id": "S-3_1q83Gknd"
      },
      "source": [
        "def gender_features2(name):\n",
        "    features = {}\n",
        "    features[\"first_letter\"] = name[0].lower()\n",
        "    features[\"last_letter\"] = name[-1].lower()\n",
        "    for letter in 'abcdefghijklmnopqrstuvwxyz':\n",
        "        features[\"count({})\".format(letter)] = name.lower().count(letter)\n",
        "        features[\"has({})\".format(letter)] = (letter in name.lower())\n",
        "    return features"
      ],
      "execution_count": null,
      "outputs": []
    },
    {
      "cell_type": "code",
      "metadata": {
        "colab": {
          "base_uri": "https://localhost:8080/"
        },
        "id": "kbraHxg8Hq_0",
        "outputId": "bf5486e0-84fa-41b5-cf44-28207c847801"
      },
      "source": [
        "print(gender_features2('Shrek'))"
      ],
      "execution_count": null,
      "outputs": [
        {
          "output_type": "stream",
          "text": [
            "{'first_letter': 's', 'last_letter': 'k', 'count(a)': 0, 'has(a)': False, 'count(b)': 0, 'has(b)': False, 'count(c)': 0, 'has(c)': False, 'count(d)': 0, 'has(d)': False, 'count(e)': 1, 'has(e)': True, 'count(f)': 0, 'has(f)': False, 'count(g)': 0, 'has(g)': False, 'count(h)': 1, 'has(h)': True, 'count(i)': 0, 'has(i)': False, 'count(j)': 0, 'has(j)': False, 'count(k)': 1, 'has(k)': True, 'count(l)': 0, 'has(l)': False, 'count(m)': 0, 'has(m)': False, 'count(n)': 0, 'has(n)': False, 'count(o)': 0, 'has(o)': False, 'count(p)': 0, 'has(p)': False, 'count(q)': 0, 'has(q)': False, 'count(r)': 1, 'has(r)': True, 'count(s)': 1, 'has(s)': True, 'count(t)': 0, 'has(t)': False, 'count(u)': 0, 'has(u)': False, 'count(v)': 0, 'has(v)': False, 'count(w)': 0, 'has(w)': False, 'count(x)': 0, 'has(x)': False, 'count(y)': 0, 'has(y)': False, 'count(z)': 0, 'has(z)': False}\n"
          ],
          "name": "stdout"
        }
      ]
    },
    {
      "cell_type": "code",
      "metadata": {
        "colab": {
          "base_uri": "https://localhost:8080/"
        },
        "id": "2mlSTaTzTbzz",
        "outputId": "608764bc-db01-4045-997b-01920d752333"
      },
      "source": [
        "nltk.download('names')"
      ],
      "execution_count": null,
      "outputs": [
        {
          "output_type": "stream",
          "text": [
            "[nltk_data] Downloading package names to /root/nltk_data...\n",
            "[nltk_data]   Unzipping corpora/names.zip.\n"
          ],
          "name": "stdout"
        },
        {
          "output_type": "execute_result",
          "data": {
            "text/plain": [
              "True"
            ]
          },
          "metadata": {
            "tags": []
          },
          "execution_count": 5
        }
      ]
    },
    {
      "cell_type": "markdown",
      "metadata": {
        "id": "UYQICyopolUf"
      },
      "source": [
        "***SHUFFLING THE LABELED NAMES AND VIEWING THEM IN A DATAFRAME USING PANDAS***"
      ]
    },
    {
      "cell_type": "code",
      "metadata": {
        "id": "_pD8Xhm_TMzZ"
      },
      "source": [
        "labeled_names = ([(name, 'male') for name in names.words('male.txt')] +\n",
        "\t[(name, 'female') for name in names.words('female.txt')])\n",
        "\n",
        "random.shuffle(labeled_names)"
      ],
      "execution_count": null,
      "outputs": []
    },
    {
      "cell_type": "code",
      "metadata": {
        "colab": {
          "base_uri": "https://localhost:8080/",
          "height": 424
        },
        "id": "lGxGnXkjkzam",
        "outputId": "fafc044a-2a04-4117-c5cd-4552b45d56a3"
      },
      "source": [
        "pd.DataFrame(labeled_names)"
      ],
      "execution_count": null,
      "outputs": [
        {
          "output_type": "execute_result",
          "data": {
            "text/html": [
              "<div>\n",
              "<style scoped>\n",
              "    .dataframe tbody tr th:only-of-type {\n",
              "        vertical-align: middle;\n",
              "    }\n",
              "\n",
              "    .dataframe tbody tr th {\n",
              "        vertical-align: top;\n",
              "    }\n",
              "\n",
              "    .dataframe thead th {\n",
              "        text-align: right;\n",
              "    }\n",
              "</style>\n",
              "<table border=\"1\" class=\"dataframe\">\n",
              "  <thead>\n",
              "    <tr style=\"text-align: right;\">\n",
              "      <th></th>\n",
              "      <th>0</th>\n",
              "      <th>1</th>\n",
              "    </tr>\n",
              "  </thead>\n",
              "  <tbody>\n",
              "    <tr>\n",
              "      <th>0</th>\n",
              "      <td>Alvinia</td>\n",
              "      <td>female</td>\n",
              "    </tr>\n",
              "    <tr>\n",
              "      <th>1</th>\n",
              "      <td>Celestina</td>\n",
              "      <td>female</td>\n",
              "    </tr>\n",
              "    <tr>\n",
              "      <th>2</th>\n",
              "      <td>Viole</td>\n",
              "      <td>female</td>\n",
              "    </tr>\n",
              "    <tr>\n",
              "      <th>3</th>\n",
              "      <td>Averyl</td>\n",
              "      <td>female</td>\n",
              "    </tr>\n",
              "    <tr>\n",
              "      <th>4</th>\n",
              "      <td>Abbey</td>\n",
              "      <td>female</td>\n",
              "    </tr>\n",
              "    <tr>\n",
              "      <th>...</th>\n",
              "      <td>...</td>\n",
              "      <td>...</td>\n",
              "    </tr>\n",
              "    <tr>\n",
              "      <th>7939</th>\n",
              "      <td>Jillene</td>\n",
              "      <td>female</td>\n",
              "    </tr>\n",
              "    <tr>\n",
              "      <th>7940</th>\n",
              "      <td>Flor</td>\n",
              "      <td>female</td>\n",
              "    </tr>\n",
              "    <tr>\n",
              "      <th>7941</th>\n",
              "      <td>Aloisia</td>\n",
              "      <td>female</td>\n",
              "    </tr>\n",
              "    <tr>\n",
              "      <th>7942</th>\n",
              "      <td>Malissa</td>\n",
              "      <td>female</td>\n",
              "    </tr>\n",
              "    <tr>\n",
              "      <th>7943</th>\n",
              "      <td>Lenette</td>\n",
              "      <td>female</td>\n",
              "    </tr>\n",
              "  </tbody>\n",
              "</table>\n",
              "<p>7944 rows × 2 columns</p>\n",
              "</div>"
            ],
            "text/plain": [
              "              0       1\n",
              "0       Alvinia  female\n",
              "1     Celestina  female\n",
              "2         Viole  female\n",
              "3        Averyl  female\n",
              "4         Abbey  female\n",
              "...         ...     ...\n",
              "7939    Jillene  female\n",
              "7940       Flor  female\n",
              "7941    Aloisia  female\n",
              "7942    Malissa  female\n",
              "7943    Lenette  female\n",
              "\n",
              "[7944 rows x 2 columns]"
            ]
          },
          "metadata": {
            "tags": []
          },
          "execution_count": 7
        }
      ]
    },
    {
      "cell_type": "code",
      "metadata": {
        "id": "8GRreoFTTqTe"
      },
      "source": [
        "labeled = pd.DataFrame(labeled_names)"
      ],
      "execution_count": null,
      "outputs": []
    },
    {
      "cell_type": "markdown",
      "metadata": {
        "id": "tnwdoXtuo1n-"
      },
      "source": [
        "***LABELING OF THE COLUMNS OF THE DATAFRAME***"
      ]
    },
    {
      "cell_type": "code",
      "metadata": {
        "id": "BJlGwxpRTwSu",
        "colab": {
          "base_uri": "https://localhost:8080/",
          "height": 206
        },
        "outputId": "09957d8b-7dd6-490a-a406-0b427d1c8e7a"
      },
      "source": [
        "labeled = labeled.rename(columns={0: \"Names\", 1: \"Gender\"})\n",
        "labeled.head()"
      ],
      "execution_count": null,
      "outputs": [
        {
          "output_type": "execute_result",
          "data": {
            "text/html": [
              "<div>\n",
              "<style scoped>\n",
              "    .dataframe tbody tr th:only-of-type {\n",
              "        vertical-align: middle;\n",
              "    }\n",
              "\n",
              "    .dataframe tbody tr th {\n",
              "        vertical-align: top;\n",
              "    }\n",
              "\n",
              "    .dataframe thead th {\n",
              "        text-align: right;\n",
              "    }\n",
              "</style>\n",
              "<table border=\"1\" class=\"dataframe\">\n",
              "  <thead>\n",
              "    <tr style=\"text-align: right;\">\n",
              "      <th></th>\n",
              "      <th>Names</th>\n",
              "      <th>Gender</th>\n",
              "    </tr>\n",
              "  </thead>\n",
              "  <tbody>\n",
              "    <tr>\n",
              "      <th>0</th>\n",
              "      <td>Aharon</td>\n",
              "      <td>male</td>\n",
              "    </tr>\n",
              "    <tr>\n",
              "      <th>1</th>\n",
              "      <td>Rudiger</td>\n",
              "      <td>male</td>\n",
              "    </tr>\n",
              "    <tr>\n",
              "      <th>2</th>\n",
              "      <td>Christen</td>\n",
              "      <td>female</td>\n",
              "    </tr>\n",
              "    <tr>\n",
              "      <th>3</th>\n",
              "      <td>Cammy</td>\n",
              "      <td>female</td>\n",
              "    </tr>\n",
              "    <tr>\n",
              "      <th>4</th>\n",
              "      <td>Leonelle</td>\n",
              "      <td>female</td>\n",
              "    </tr>\n",
              "  </tbody>\n",
              "</table>\n",
              "</div>"
            ],
            "text/plain": [
              "      Names  Gender\n",
              "0    Aharon    male\n",
              "1   Rudiger    male\n",
              "2  Christen  female\n",
              "3     Cammy  female\n",
              "4  Leonelle  female"
            ]
          },
          "metadata": {
            "tags": []
          },
          "execution_count": 11
        }
      ]
    },
    {
      "cell_type": "markdown",
      "metadata": {
        "id": "yNk7gDPbo4Ch"
      },
      "source": [
        "***SPLITTING OF THE DATASET***"
      ]
    },
    {
      "cell_type": "code",
      "metadata": {
        "id": "-l1sg2wnT0bR"
      },
      "source": [
        "X = labeled['Names'].values\n",
        "y = labeled['Gender'].values"
      ],
      "execution_count": null,
      "outputs": []
    },
    {
      "cell_type": "code",
      "metadata": {
        "colab": {
          "base_uri": "https://localhost:8080/",
          "height": 206
        },
        "id": "6BkqLvV6mWw-",
        "outputId": "b9bbc1de-fc01-49d1-9e36-277d005e02fe"
      },
      "source": [
        "pd.DataFrame(X).head()"
      ],
      "execution_count": null,
      "outputs": [
        {
          "output_type": "execute_result",
          "data": {
            "text/html": [
              "<div>\n",
              "<style scoped>\n",
              "    .dataframe tbody tr th:only-of-type {\n",
              "        vertical-align: middle;\n",
              "    }\n",
              "\n",
              "    .dataframe tbody tr th {\n",
              "        vertical-align: top;\n",
              "    }\n",
              "\n",
              "    .dataframe thead th {\n",
              "        text-align: right;\n",
              "    }\n",
              "</style>\n",
              "<table border=\"1\" class=\"dataframe\">\n",
              "  <thead>\n",
              "    <tr style=\"text-align: right;\">\n",
              "      <th></th>\n",
              "      <th>0</th>\n",
              "    </tr>\n",
              "  </thead>\n",
              "  <tbody>\n",
              "    <tr>\n",
              "      <th>0</th>\n",
              "      <td>Aharon</td>\n",
              "    </tr>\n",
              "    <tr>\n",
              "      <th>1</th>\n",
              "      <td>Rudiger</td>\n",
              "    </tr>\n",
              "    <tr>\n",
              "      <th>2</th>\n",
              "      <td>Christen</td>\n",
              "    </tr>\n",
              "    <tr>\n",
              "      <th>3</th>\n",
              "      <td>Cammy</td>\n",
              "    </tr>\n",
              "    <tr>\n",
              "      <th>4</th>\n",
              "      <td>Leonelle</td>\n",
              "    </tr>\n",
              "  </tbody>\n",
              "</table>\n",
              "</div>"
            ],
            "text/plain": [
              "          0\n",
              "0    Aharon\n",
              "1   Rudiger\n",
              "2  Christen\n",
              "3     Cammy\n",
              "4  Leonelle"
            ]
          },
          "metadata": {
            "tags": []
          },
          "execution_count": 13
        }
      ]
    },
    {
      "cell_type": "markdown",
      "metadata": {
        "id": "Ku1IhlJJo_yj"
      },
      "source": [
        "***TRANSFORMING OF THE GENDER COLUMN*** "
      ]
    },
    {
      "cell_type": "code",
      "metadata": {
        "id": "Atk088jLmZWi"
      },
      "source": [
        "labelencoder = LabelEncoder()\n",
        "y = labelencoder.fit_transform(y)"
      ],
      "execution_count": null,
      "outputs": []
    },
    {
      "cell_type": "code",
      "metadata": {
        "colab": {
          "base_uri": "https://localhost:8080/",
          "height": 206
        },
        "id": "1smLhYBdmj-p",
        "outputId": "10bee37e-ee2b-4f02-acbb-d76db90090e2"
      },
      "source": [
        "pd.DataFrame(y).head()"
      ],
      "execution_count": null,
      "outputs": [
        {
          "output_type": "execute_result",
          "data": {
            "text/html": [
              "<div>\n",
              "<style scoped>\n",
              "    .dataframe tbody tr th:only-of-type {\n",
              "        vertical-align: middle;\n",
              "    }\n",
              "\n",
              "    .dataframe tbody tr th {\n",
              "        vertical-align: top;\n",
              "    }\n",
              "\n",
              "    .dataframe thead th {\n",
              "        text-align: right;\n",
              "    }\n",
              "</style>\n",
              "<table border=\"1\" class=\"dataframe\">\n",
              "  <thead>\n",
              "    <tr style=\"text-align: right;\">\n",
              "      <th></th>\n",
              "      <th>0</th>\n",
              "    </tr>\n",
              "  </thead>\n",
              "  <tbody>\n",
              "    <tr>\n",
              "      <th>0</th>\n",
              "      <td>1</td>\n",
              "    </tr>\n",
              "    <tr>\n",
              "      <th>1</th>\n",
              "      <td>1</td>\n",
              "    </tr>\n",
              "    <tr>\n",
              "      <th>2</th>\n",
              "      <td>0</td>\n",
              "    </tr>\n",
              "    <tr>\n",
              "      <th>3</th>\n",
              "      <td>0</td>\n",
              "    </tr>\n",
              "    <tr>\n",
              "      <th>4</th>\n",
              "      <td>0</td>\n",
              "    </tr>\n",
              "  </tbody>\n",
              "</table>\n",
              "</div>"
            ],
            "text/plain": [
              "   0\n",
              "0  1\n",
              "1  1\n",
              "2  0\n",
              "3  0\n",
              "4  0"
            ]
          },
          "metadata": {
            "tags": []
          },
          "execution_count": 17
        }
      ]
    },
    {
      "cell_type": "markdown",
      "metadata": {
        "id": "1_DLtdDypDlv"
      },
      "source": [
        "## **FEATURE ENGINEERING**\n",
        "***TRANSFORMATION OF THE TEXT USING BAG OF WORDS***"
      ]
    },
    {
      "cell_type": "code",
      "metadata": {
        "colab": {
          "base_uri": "https://localhost:8080/"
        },
        "id": "QzXGwD7zmqIg",
        "outputId": "eaaee031-24ea-4e0f-9991-41c35200359c"
      },
      "source": [
        "count = CountVectorizer(min_df=3, analyzer='word', ngram_range=(1,2), max_features=5000) #CONSIDERING BOTH BIGRAMS AND UNIGRAMS, IGNORING WORDS THAT HAVE A DOCUMENT FREQUENCY OF LESS THAN 3 AND CONSIDERING THE TOP 5000 FEATURES BASED ON FREQUENCY ACROSS THE CORPUS.\n",
        "bow = count.fit_transform(X)\n",
        "bow.toarray()"
      ],
      "execution_count": null,
      "outputs": [
        {
          "output_type": "execute_result",
          "data": {
            "text/plain": [
              "array([[0, 0, 0, ..., 0, 0, 0],\n",
              "       [0, 0, 0, ..., 0, 0, 0],\n",
              "       [0, 0, 0, ..., 0, 0, 0],\n",
              "       ...,\n",
              "       [0, 0, 0, ..., 0, 0, 0],\n",
              "       [0, 0, 0, ..., 0, 0, 0],\n",
              "       [0, 0, 0, ..., 0, 0, 0]])"
            ]
          },
          "metadata": {
            "tags": []
          },
          "execution_count": 51
        }
      ]
    },
    {
      "cell_type": "code",
      "metadata": {
        "id": "k4sx6k0zq6Kg"
      },
      "source": [
        "Bow_feature_names = count.get_feature_names()"
      ],
      "execution_count": null,
      "outputs": []
    },
    {
      "cell_type": "code",
      "metadata": {
        "id": "Tv4UnYc2q7YK"
      },
      "source": [
        "X_Bow = pd.DataFrame(bow.toarray(), columns=Bow_feature_names) #VIEWING IN FORM OF A DATAFRAME"
      ],
      "execution_count": null,
      "outputs": []
    },
    {
      "cell_type": "code",
      "metadata": {
        "colab": {
          "base_uri": "https://localhost:8080/",
          "height": 206
        },
        "id": "czwMB7yRtFGD",
        "outputId": "e83b6748-6d70-4c8b-d16e-2de92bdb48cf"
      },
      "source": [
        "X_Bow.head()"
      ],
      "execution_count": null,
      "outputs": [
        {
          "output_type": "execute_result",
          "data": {
            "text/html": [
              "<div>\n",
              "<style scoped>\n",
              "    .dataframe tbody tr th:only-of-type {\n",
              "        vertical-align: middle;\n",
              "    }\n",
              "\n",
              "    .dataframe tbody tr th {\n",
              "        vertical-align: top;\n",
              "    }\n",
              "\n",
              "    .dataframe thead th {\n",
              "        text-align: right;\n",
              "    }\n",
              "</style>\n",
              "<table border=\"1\" class=\"dataframe\">\n",
              "  <thead>\n",
              "    <tr style=\"text-align: right;\">\n",
              "      <th></th>\n",
              "      <th>ann</th>\n",
              "      <th>anna</th>\n",
              "      <th>anne</th>\n",
              "      <th>diane</th>\n",
              "      <th>gale</th>\n",
              "      <th>grace</th>\n",
              "      <th>holly</th>\n",
              "      <th>jean</th>\n",
              "      <th>jo</th>\n",
              "      <th>john</th>\n",
              "      <th>lane</th>\n",
              "      <th>lou</th>\n",
              "      <th>lynn</th>\n",
              "      <th>marie</th>\n",
              "      <th>terri</th>\n",
              "    </tr>\n",
              "  </thead>\n",
              "  <tbody>\n",
              "    <tr>\n",
              "      <th>0</th>\n",
              "      <td>0</td>\n",
              "      <td>0</td>\n",
              "      <td>0</td>\n",
              "      <td>0</td>\n",
              "      <td>0</td>\n",
              "      <td>0</td>\n",
              "      <td>0</td>\n",
              "      <td>0</td>\n",
              "      <td>0</td>\n",
              "      <td>0</td>\n",
              "      <td>0</td>\n",
              "      <td>0</td>\n",
              "      <td>0</td>\n",
              "      <td>0</td>\n",
              "      <td>0</td>\n",
              "    </tr>\n",
              "    <tr>\n",
              "      <th>1</th>\n",
              "      <td>0</td>\n",
              "      <td>0</td>\n",
              "      <td>0</td>\n",
              "      <td>0</td>\n",
              "      <td>0</td>\n",
              "      <td>0</td>\n",
              "      <td>0</td>\n",
              "      <td>0</td>\n",
              "      <td>0</td>\n",
              "      <td>0</td>\n",
              "      <td>0</td>\n",
              "      <td>0</td>\n",
              "      <td>0</td>\n",
              "      <td>0</td>\n",
              "      <td>0</td>\n",
              "    </tr>\n",
              "    <tr>\n",
              "      <th>2</th>\n",
              "      <td>0</td>\n",
              "      <td>0</td>\n",
              "      <td>0</td>\n",
              "      <td>0</td>\n",
              "      <td>0</td>\n",
              "      <td>0</td>\n",
              "      <td>0</td>\n",
              "      <td>0</td>\n",
              "      <td>0</td>\n",
              "      <td>0</td>\n",
              "      <td>0</td>\n",
              "      <td>0</td>\n",
              "      <td>0</td>\n",
              "      <td>0</td>\n",
              "      <td>0</td>\n",
              "    </tr>\n",
              "    <tr>\n",
              "      <th>3</th>\n",
              "      <td>0</td>\n",
              "      <td>0</td>\n",
              "      <td>0</td>\n",
              "      <td>0</td>\n",
              "      <td>0</td>\n",
              "      <td>0</td>\n",
              "      <td>0</td>\n",
              "      <td>0</td>\n",
              "      <td>0</td>\n",
              "      <td>0</td>\n",
              "      <td>0</td>\n",
              "      <td>0</td>\n",
              "      <td>0</td>\n",
              "      <td>0</td>\n",
              "      <td>0</td>\n",
              "    </tr>\n",
              "    <tr>\n",
              "      <th>4</th>\n",
              "      <td>0</td>\n",
              "      <td>0</td>\n",
              "      <td>0</td>\n",
              "      <td>0</td>\n",
              "      <td>0</td>\n",
              "      <td>0</td>\n",
              "      <td>0</td>\n",
              "      <td>0</td>\n",
              "      <td>0</td>\n",
              "      <td>0</td>\n",
              "      <td>0</td>\n",
              "      <td>0</td>\n",
              "      <td>0</td>\n",
              "      <td>0</td>\n",
              "      <td>0</td>\n",
              "    </tr>\n",
              "  </tbody>\n",
              "</table>\n",
              "</div>"
            ],
            "text/plain": [
              "   ann  anna  anne  diane  gale  grace  ...  john  lane  lou  lynn  marie  terri\n",
              "0    0     0     0      0     0      0  ...     0     0    0     0      0      0\n",
              "1    0     0     0      0     0      0  ...     0     0    0     0      0      0\n",
              "2    0     0     0      0     0      0  ...     0     0    0     0      0      0\n",
              "3    0     0     0      0     0      0  ...     0     0    0     0      0      0\n",
              "4    0     0     0      0     0      0  ...     0     0    0     0      0      0\n",
              "\n",
              "[5 rows x 15 columns]"
            ]
          },
          "metadata": {
            "tags": []
          },
          "execution_count": 54
        }
      ]
    },
    {
      "cell_type": "markdown",
      "metadata": {
        "id": "sxBAwEzltOO4"
      },
      "source": [
        "***TRANSFORMATION OF THE TEXT USING TF-IDF***"
      ]
    },
    {
      "cell_type": "code",
      "metadata": {
        "colab": {
          "base_uri": "https://localhost:8080/"
        },
        "id": "yGXswbhQtLVf",
        "outputId": "2adedfd0-61c0-4083-bb87-e9a9a0a5b5ee"
      },
      "source": [
        "tf = TfidfVectorizer(analyzer='word',min_df= 3, ngram_range=(1, 2), max_features=5000)\n",
        "Tfid = tf.fit_transform(X)\n",
        "Tfid.toarray()"
      ],
      "execution_count": null,
      "outputs": [
        {
          "output_type": "execute_result",
          "data": {
            "text/plain": [
              "array([[0., 0., 0., ..., 0., 0., 0.],\n",
              "       [0., 0., 0., ..., 0., 0., 0.],\n",
              "       [0., 0., 0., ..., 0., 0., 0.],\n",
              "       ...,\n",
              "       [0., 0., 0., ..., 0., 0., 0.],\n",
              "       [0., 0., 0., ..., 0., 0., 0.],\n",
              "       [0., 0., 0., ..., 0., 0., 0.]])"
            ]
          },
          "metadata": {
            "tags": []
          },
          "execution_count": 55
        }
      ]
    },
    {
      "cell_type": "code",
      "metadata": {
        "colab": {
          "base_uri": "https://localhost:8080/",
          "height": 206
        },
        "id": "YIK28xNwtdH9",
        "outputId": "d5bbb658-7139-436c-f754-1e19845b895a"
      },
      "source": [
        "tfid_feature_names = tf.get_feature_names()\n",
        "X_Tfid = pd.DataFrame(Tfid.toarray(), columns=tfid_feature_names)\n",
        "X_Tfid.head()"
      ],
      "execution_count": null,
      "outputs": [
        {
          "output_type": "execute_result",
          "data": {
            "text/html": [
              "<div>\n",
              "<style scoped>\n",
              "    .dataframe tbody tr th:only-of-type {\n",
              "        vertical-align: middle;\n",
              "    }\n",
              "\n",
              "    .dataframe tbody tr th {\n",
              "        vertical-align: top;\n",
              "    }\n",
              "\n",
              "    .dataframe thead th {\n",
              "        text-align: right;\n",
              "    }\n",
              "</style>\n",
              "<table border=\"1\" class=\"dataframe\">\n",
              "  <thead>\n",
              "    <tr style=\"text-align: right;\">\n",
              "      <th></th>\n",
              "      <th>ann</th>\n",
              "      <th>anna</th>\n",
              "      <th>anne</th>\n",
              "      <th>diane</th>\n",
              "      <th>gale</th>\n",
              "      <th>grace</th>\n",
              "      <th>holly</th>\n",
              "      <th>jean</th>\n",
              "      <th>jo</th>\n",
              "      <th>john</th>\n",
              "      <th>lane</th>\n",
              "      <th>lou</th>\n",
              "      <th>lynn</th>\n",
              "      <th>marie</th>\n",
              "      <th>terri</th>\n",
              "    </tr>\n",
              "  </thead>\n",
              "  <tbody>\n",
              "    <tr>\n",
              "      <th>0</th>\n",
              "      <td>0.0</td>\n",
              "      <td>0.0</td>\n",
              "      <td>0.0</td>\n",
              "      <td>0.0</td>\n",
              "      <td>0.0</td>\n",
              "      <td>0.0</td>\n",
              "      <td>0.0</td>\n",
              "      <td>0.0</td>\n",
              "      <td>0.0</td>\n",
              "      <td>0.0</td>\n",
              "      <td>0.0</td>\n",
              "      <td>0.0</td>\n",
              "      <td>0.0</td>\n",
              "      <td>0.0</td>\n",
              "      <td>0.0</td>\n",
              "    </tr>\n",
              "    <tr>\n",
              "      <th>1</th>\n",
              "      <td>0.0</td>\n",
              "      <td>0.0</td>\n",
              "      <td>0.0</td>\n",
              "      <td>0.0</td>\n",
              "      <td>0.0</td>\n",
              "      <td>0.0</td>\n",
              "      <td>0.0</td>\n",
              "      <td>0.0</td>\n",
              "      <td>0.0</td>\n",
              "      <td>0.0</td>\n",
              "      <td>0.0</td>\n",
              "      <td>0.0</td>\n",
              "      <td>0.0</td>\n",
              "      <td>0.0</td>\n",
              "      <td>0.0</td>\n",
              "    </tr>\n",
              "    <tr>\n",
              "      <th>2</th>\n",
              "      <td>0.0</td>\n",
              "      <td>0.0</td>\n",
              "      <td>0.0</td>\n",
              "      <td>0.0</td>\n",
              "      <td>0.0</td>\n",
              "      <td>0.0</td>\n",
              "      <td>0.0</td>\n",
              "      <td>0.0</td>\n",
              "      <td>0.0</td>\n",
              "      <td>0.0</td>\n",
              "      <td>0.0</td>\n",
              "      <td>0.0</td>\n",
              "      <td>0.0</td>\n",
              "      <td>0.0</td>\n",
              "      <td>0.0</td>\n",
              "    </tr>\n",
              "    <tr>\n",
              "      <th>3</th>\n",
              "      <td>0.0</td>\n",
              "      <td>0.0</td>\n",
              "      <td>0.0</td>\n",
              "      <td>0.0</td>\n",
              "      <td>0.0</td>\n",
              "      <td>0.0</td>\n",
              "      <td>0.0</td>\n",
              "      <td>0.0</td>\n",
              "      <td>0.0</td>\n",
              "      <td>0.0</td>\n",
              "      <td>0.0</td>\n",
              "      <td>0.0</td>\n",
              "      <td>0.0</td>\n",
              "      <td>0.0</td>\n",
              "      <td>0.0</td>\n",
              "    </tr>\n",
              "    <tr>\n",
              "      <th>4</th>\n",
              "      <td>0.0</td>\n",
              "      <td>0.0</td>\n",
              "      <td>0.0</td>\n",
              "      <td>0.0</td>\n",
              "      <td>0.0</td>\n",
              "      <td>0.0</td>\n",
              "      <td>0.0</td>\n",
              "      <td>0.0</td>\n",
              "      <td>0.0</td>\n",
              "      <td>0.0</td>\n",
              "      <td>0.0</td>\n",
              "      <td>0.0</td>\n",
              "      <td>0.0</td>\n",
              "      <td>0.0</td>\n",
              "      <td>0.0</td>\n",
              "    </tr>\n",
              "  </tbody>\n",
              "</table>\n",
              "</div>"
            ],
            "text/plain": [
              "   ann  anna  anne  diane  gale  grace  ...  john  lane  lou  lynn  marie  terri\n",
              "0  0.0   0.0   0.0    0.0   0.0    0.0  ...   0.0   0.0  0.0   0.0    0.0    0.0\n",
              "1  0.0   0.0   0.0    0.0   0.0    0.0  ...   0.0   0.0  0.0   0.0    0.0    0.0\n",
              "2  0.0   0.0   0.0    0.0   0.0    0.0  ...   0.0   0.0  0.0   0.0    0.0    0.0\n",
              "3  0.0   0.0   0.0    0.0   0.0    0.0  ...   0.0   0.0  0.0   0.0    0.0    0.0\n",
              "4  0.0   0.0   0.0    0.0   0.0    0.0  ...   0.0   0.0  0.0   0.0    0.0    0.0\n",
              "\n",
              "[5 rows x 15 columns]"
            ]
          },
          "metadata": {
            "tags": []
          },
          "execution_count": 56
        }
      ]
    },
    {
      "cell_type": "markdown",
      "metadata": {
        "id": "aMG4YXpHt33v"
      },
      "source": [
        "## ***MODELLING***"
      ]
    },
    {
      "cell_type": "code",
      "metadata": {
        "colab": {
          "base_uri": "https://localhost:8080/"
        },
        "id": "id-WUs0Ht4mJ",
        "outputId": "d2948e31-4c54-4f72-b633-c4e04a9ec607"
      },
      "source": [
        "kf = KFold(n_splits = 10, shuffle = False, random_state=None)\n",
        "rf_reg = RandomForestClassifier()\n",
        "\n",
        "scores = []\n",
        "for i in range(10):\n",
        "    result = next(kf.split(X_Bow), None)\n",
        "    X_train = X_Bow.iloc[result[0]]\n",
        "    X_test = X_Bow.iloc[result[1]]\n",
        "    y_train = y[result[0]]\n",
        "    y_test = y[result[1]]\n",
        "    model = rf_reg.fit(X_train,y_train)\n",
        "    predictions = rf_reg.predict(X_test)\n",
        "    scores.append(model.score(X_test,y_test))\n",
        "print('Scores from each Iteration: ', scores)\n",
        "RandomForest_Bow = np.mean(scores)\n",
        "print('Average K-Fold(Random Forest- BOW) Score :' , RandomForest_Bow)"
      ],
      "execution_count": null,
      "outputs": [
        {
          "output_type": "stream",
          "text": [
            "Scores from each Iteration:  [0.6289308176100629, 0.6289308176100629, 0.6289308176100629, 0.6289308176100629, 0.6276729559748427, 0.6276729559748427, 0.6289308176100629, 0.6289308176100629, 0.6276729559748427, 0.6289308176100629]\n",
            "Average K-Fold(Random Forest- BOW) Score : 0.6285534591194968\n"
          ],
          "name": "stdout"
        }
      ]
    },
    {
      "cell_type": "code",
      "metadata": {
        "colab": {
          "base_uri": "https://localhost:8080/"
        },
        "id": "IeTs78_itt4-",
        "outputId": "5c66c089-4553-4057-be8a-8a79c190363e"
      },
      "source": [
        "kf = KFold(n_splits = 10, shuffle = False, random_state=None)\n",
        "rf_reg = RandomForestClassifier()\n",
        "\n",
        "scores = []\n",
        "for i in range(10):\n",
        "    result = next(kf.split(X_Tfid), None)\n",
        "    X_train = X_Tfid.iloc[result[0]]\n",
        "    X_test = X_Tfid.iloc[result[1]]\n",
        "    y_train = y[result[0]]\n",
        "    y_test = y[result[1]]\n",
        "    model = rf_reg.fit(X_train,y_train)\n",
        "    predictions = rf_reg.predict(X_test)\n",
        "    scores.append(model.score(X_test,y_test))\n",
        "print('Scores from each Iteration: ', scores)\n",
        "RandomForest_Tfid = np.mean(scores)\n",
        "print('Average K-Fold Score(Random Forest- TFid) :' , RandomForest_Tfid)"
      ],
      "execution_count": null,
      "outputs": [
        {
          "output_type": "stream",
          "text": [
            "Scores from each Iteration:  [0.6289308176100629, 0.6289308176100629, 0.6289308176100629, 0.6276729559748427, 0.6289308176100629, 0.6289308176100629, 0.6276729559748427, 0.6289308176100629, 0.6289308176100629, 0.6289308176100629]\n",
            "Average K-Fold Score(Random Forest- TFid) : 0.6286792452830188\n"
          ],
          "name": "stdout"
        }
      ]
    },
    {
      "cell_type": "code",
      "metadata": {
        "colab": {
          "base_uri": "https://localhost:8080/"
        },
        "id": "squJ1gydvpW4",
        "outputId": "54beebdc-c64d-4156-dab4-9a2863f040d1"
      },
      "source": [
        "kf = KFold(n_splits = 10, shuffle = False, random_state=None)\n",
        "clf = GaussianNB()\n",
        "\n",
        "scores = []\n",
        "for i in range(10):\n",
        "    result = next(kf.split(X_Bow), None)\n",
        "    X_train = X_Bow.iloc[result[0]]\n",
        "    X_test = X_Bow.iloc[result[1]]\n",
        "    y_train = y[result[0]]\n",
        "    y_test = y[result[1]]\n",
        "    model = clf.fit(X_train,y_train)\n",
        "    predictions = clf.predict(X_test)\n",
        "    scores.append(model.score(X_test,y_test))\n",
        "print('Scores from each Iteration: ', scores)\n",
        "GaussianNB_Bow = np.mean(scores)\n",
        "print('Average K-Fold(Random Forest- BOW) Score :' , GaussianNB_Bow)"
      ],
      "execution_count": null,
      "outputs": [
        {
          "output_type": "stream",
          "text": [
            "Scores from each Iteration:  [0.37358490566037733, 0.37358490566037733, 0.37358490566037733, 0.37358490566037733, 0.37358490566037733, 0.37358490566037733, 0.37358490566037733, 0.37358490566037733, 0.37358490566037733, 0.37358490566037733]\n",
            "Average K-Fold(Random Forest- BOW) Score : 0.3735849056603774\n"
          ],
          "name": "stdout"
        }
      ]
    },
    {
      "cell_type": "code",
      "metadata": {
        "colab": {
          "base_uri": "https://localhost:8080/"
        },
        "id": "ETXKNMImwfBl",
        "outputId": "18978d0b-7725-4385-9298-f2b8b4e17346"
      },
      "source": [
        "kf = KFold(n_splits = 10, shuffle = False, random_state=None)\n",
        "clf = GaussianNB()\n",
        "\n",
        "scores = []\n",
        "for i in range(10):\n",
        "    result = next(kf.split(X_Tfid), None)\n",
        "    X_train = X_Tfid.iloc[result[0]]\n",
        "    X_test = X_Tfid.iloc[result[1]]\n",
        "    y_train = y[result[0]]\n",
        "    y_test = y[result[1]]\n",
        "    model = clf.fit(X_train,y_train)\n",
        "    predictions = clf.predict(X_test)\n",
        "    scores.append(model.score(X_test,y_test))\n",
        "print('Scores from each Iteration: ', scores)\n",
        "GaussianNB_Tfid = np.mean(scores)\n",
        "print('Average K-Fold Score(Random Forest- TFid) :' , GaussianNB_Tfid)"
      ],
      "execution_count": null,
      "outputs": [
        {
          "output_type": "stream",
          "text": [
            "Scores from each Iteration:  [0.37358490566037733, 0.37358490566037733, 0.37358490566037733, 0.37358490566037733, 0.37358490566037733, 0.37358490566037733, 0.37358490566037733, 0.37358490566037733, 0.37358490566037733, 0.37358490566037733]\n",
            "Average K-Fold Score(Random Forest- TFid) : 0.3735849056603774\n"
          ],
          "name": "stdout"
        }
      ]
    },
    {
      "cell_type": "code",
      "metadata": {
        "colab": {
          "base_uri": "https://localhost:8080/"
        },
        "id": "mTXUNsiZwsls",
        "outputId": "2ff5d366-5491-4f26-b6df-ed7c907b29b6"
      },
      "source": [
        "kf = KFold(n_splits = 10, shuffle = False, random_state=None)\n",
        "dtc = DecisionTreeClassifier()\n",
        "\n",
        "scores = []\n",
        "for i in range(10):\n",
        "    result = next(kf.split(X_Tfid), None)\n",
        "    X_train = X_Tfid.iloc[result[0]]\n",
        "    X_test = X_Tfid.iloc[result[1]]\n",
        "    y_train = y[result[0]]\n",
        "    y_test = y[result[1]]\n",
        "    model = dtc.fit(X_train,y_train)\n",
        "    predictions = dtc.predict(X_test)\n",
        "    scores.append(model.score(X_test,y_test))\n",
        "print('Scores from each Iteration: ', scores)\n",
        "DecisionTree_Tfid = np.mean(scores)\n",
        "print('Average K-Fold Score(Decision Tree- TFid) :' , DecisionTree_Tfid)"
      ],
      "execution_count": null,
      "outputs": [
        {
          "output_type": "stream",
          "text": [
            "Scores from each Iteration:  [0.6289308176100629, 0.6289308176100629, 0.6289308176100629, 0.6289308176100629, 0.6289308176100629, 0.6289308176100629, 0.6289308176100629, 0.6289308176100629, 0.6289308176100629, 0.6289308176100629]\n",
            "Average K-Fold Score(Decision Tree- TFid) : 0.6289308176100629\n"
          ],
          "name": "stdout"
        }
      ]
    },
    {
      "cell_type": "code",
      "metadata": {
        "colab": {
          "base_uri": "https://localhost:8080/"
        },
        "id": "HwsFc9Jrx9zS",
        "outputId": "795762b0-f014-4b9e-d886-44e4c42f0dad"
      },
      "source": [
        "kf = KFold(n_splits = 10, shuffle = False, random_state=None)\n",
        "dtc = DecisionTreeClassifier()\n",
        "\n",
        "scores = []\n",
        "for i in range(10):\n",
        "    result = next(kf.split(X_Bow), None)\n",
        "    X_train = X_Bow.iloc[result[0]]\n",
        "    X_test = X_Bow.iloc[result[1]]\n",
        "    y_train = y[result[0]]\n",
        "    y_test = y[result[1]]\n",
        "    model = dtc.fit(X_train,y_train)\n",
        "    predictions = dtc.predict(X_test)\n",
        "    scores.append(model.score(X_test,y_test))\n",
        "print('Scores from each Iteration: ', scores)\n",
        "DecisionTree_Bow = np.mean(scores)\n",
        "print('Average K-Fold Score(Decision Tree- BOW) :' , DecisionTree_Bow)\n"
      ],
      "execution_count": null,
      "outputs": [
        {
          "output_type": "stream",
          "text": [
            "Scores from each Iteration:  [0.6289308176100629, 0.6289308176100629, 0.6289308176100629, 0.6289308176100629, 0.6289308176100629, 0.6289308176100629, 0.6289308176100629, 0.6289308176100629, 0.6289308176100629, 0.6289308176100629]\n",
            "Average K-Fold Score(Decision Tree- BOW) : 0.6289308176100629\n"
          ],
          "name": "stdout"
        }
      ]
    },
    {
      "cell_type": "code",
      "metadata": {
        "colab": {
          "base_uri": "https://localhost:8080/"
        },
        "id": "sLsW-RHnw_xX",
        "outputId": "ed5ea8cf-db4f-46ec-b68d-65c21c0cfed6"
      },
      "source": [
        "\n",
        "f = KFold(n_splits = 10, shuffle = False, random_state=None)\n",
        "clf = SVC()\n",
        "\n",
        "scores = []\n",
        "for i in range(10):\n",
        "    result = next(kf.split(X_Bow), None)\n",
        "    X_train = X_Bow.iloc[result[0]]\n",
        "    X_test = X_Bow.iloc[result[1]]\n",
        "    y_train = y[result[0]]\n",
        "    y_test = y[result[1]]\n",
        "    model = clf.fit(X_train,y_train)\n",
        "    predictions = clf.predict(X_test)\n",
        "    scores.append(model.score(X_test,y_test))\n",
        "print('Scores from each Iteration: ', scores)\n",
        "SVM_Bow = np.mean(scores)\n",
        "print('Average K-Fold Score(SVM- BOW) :' , SVM_Bow)\n"
      ],
      "execution_count": null,
      "outputs": [
        {
          "output_type": "stream",
          "text": [
            "Scores from each Iteration:  [0.6289308176100629, 0.6289308176100629, 0.6289308176100629, 0.6289308176100629, 0.6289308176100629, 0.6289308176100629, 0.6289308176100629, 0.6289308176100629, 0.6289308176100629, 0.6289308176100629]\n",
            "Average K-Fold Score(SVM- BOW) : 0.6289308176100629\n"
          ],
          "name": "stdout"
        }
      ]
    },
    {
      "cell_type": "code",
      "metadata": {
        "colab": {
          "base_uri": "https://localhost:8080/"
        },
        "id": "MTLzueJkxY1y",
        "outputId": "90220a47-99cb-4c1b-a41e-047557a1504d"
      },
      "source": [
        "kf = KFold(n_splits = 10, shuffle = False, random_state=None)\n",
        "clf = SVC()\n",
        "\n",
        "scores = []\n",
        "for i in range(10):\n",
        "    result = next(kf.split(X_Tfid), None)\n",
        "    X_train = X_Tfid.iloc[result[0]]\n",
        "    X_test = X_Tfid.iloc[result[1]]\n",
        "    y_train = y[result[0]]\n",
        "    y_test = y[result[1]]\n",
        "    model = clf.fit(X_train,y_train)\n",
        "    predictions = clf.predict(X_test)\n",
        "    scores.append(model.score(X_test,y_test))\n",
        "print('Scores from each Iteration: ', scores)\n",
        "SVM_Tfid = np.mean(scores)\n",
        "print('Average K-Fold Score(SVM- TFid) :' , SVM_Tfid)\n"
      ],
      "execution_count": null,
      "outputs": [
        {
          "output_type": "stream",
          "text": [
            "Scores from each Iteration:  [0.6289308176100629, 0.6289308176100629, 0.6289308176100629, 0.6289308176100629, 0.6289308176100629, 0.6289308176100629, 0.6289308176100629, 0.6289308176100629, 0.6289308176100629, 0.6289308176100629]\n",
            "Average K-Fold Score(SVM- TFid) : 0.6289308176100629\n"
          ],
          "name": "stdout"
        }
      ]
    },
    {
      "cell_type": "code",
      "metadata": {
        "colab": {
          "base_uri": "https://localhost:8080/",
          "height": 280
        },
        "id": "3a7beI4rxupT",
        "outputId": "c9c312cc-ed52-403b-fc08-411d70d63082"
      },
      "source": [
        "entries = [('RandomForest', RandomForest_Tfid),('SVM', SVM_Tfid), ('Decision Tree', DecisionTree_Tfid), ('Naive Bayes', GaussianNB_Tfid)]\n",
        "cv_df = pd.DataFrame(entries, columns=['model_name', 'accuracy'])\n",
        "import seaborn as sns\n",
        "sns.boxplot(x='model_name', y='accuracy', data=cv_df)\n",
        "sns.stripplot(x='model_name', y='accuracy', data=cv_df, \n",
        "              size=8, jitter=True, edgecolor=\"gray\", linewidth=2)\n",
        "plt.show()"
      ],
      "execution_count": null,
      "outputs": [
        {
          "output_type": "display_data",
          "data": {
            "image/png": "[encoded data removed]",
            "text/plain": [
              "<Figure size 432x288 with 1 Axes>"
            ]
          },
          "metadata": {
            "tags": [],
            "needs_background": "light"
          }
        }
      ]
    },
    {
      "cell_type": "code",
      "metadata": {
        "colab": {
          "base_uri": "https://localhost:8080/",
          "height": 280
        },
        "id": "TMXZOXIVyrGS",
        "outputId": "2859cb25-ea44-4046-9470-88174657334d"
      },
      "source": [
        "entries = [('RandomForest', RandomForest_Bow),('SVM', SVM_Bow), ('Decision Tree', DecisionTree_Bow),('Naive Bayes', GaussianNB_Bow)]\n",
        "cv_df = pd.DataFrame(entries, columns=['model_name', 'accuracy'])\n",
        "import seaborn as sns\n",
        "sns.boxplot(x='model_name', y='accuracy', data=cv_df)\n",
        "sns.stripplot(x='model_name', y='accuracy', data=cv_df, \n",
        "              size=8, jitter=True, edgecolor=\"gray\", linewidth=2)\n",
        "plt.show()"
      ],
      "execution_count": null,
      "outputs": [
        {
          "output_type": "display_data",
          "data": {
            "image/png": "[encoded data removed]",
            "text/plain": [
              "<Figure size 432x288 with 1 Axes>"
            ]
          },
          "metadata": {
            "tags": [],
            "needs_background": "light"
          }
        }
      ]
    }
  ]
}